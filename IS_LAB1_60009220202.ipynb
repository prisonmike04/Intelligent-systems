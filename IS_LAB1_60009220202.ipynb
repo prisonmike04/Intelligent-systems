{
  "nbformat": 4,
  "nbformat_minor": 0,
  "metadata": {
    "colab": {
      "provenance": []
    },
    "kernelspec": {
      "name": "python3",
      "display_name": "Python 3"
    },
    "language_info": {
      "name": "python"
    }
  },
  "cells": [
    {
      "cell_type": "markdown",
      "source": [
        "# Name: Ayushi Singh\n",
        "# Sap id: 60009220202\n",
        "# IS Lab 2"
      ],
      "metadata": {
        "id": "bITdQbBcvHm-"
      }
    },
    {
      "cell_type": "markdown",
      "source": [
        "# Water jug problem\n"
      ],
      "metadata": {
        "id": "jo3boCImvHcY"
      }
    },
    {
      "cell_type": "code",
      "execution_count": 4,
      "metadata": {
        "colab": {
          "base_uri": "https://localhost:8080/"
        },
        "id": "5lszG3ti39JM",
        "outputId": "e6cb388e-f6cb-4bb7-d5f0-fe12913a91d2"
      },
      "outputs": [
        {
          "output_type": "stream",
          "name": "stdout",
          "text": [
            "Enter the capacity of jug 1: 8\n",
            "Enter the capacity of jug 2: 5\n",
            "Enter the capacity of jug 3: 3\n",
            "Enter the goal: 4\n",
            "The sequence of moves to achieve the goal is:\n",
            "(0, 0, 0)\n",
            "(0, 0, 3)\n",
            "(0, 3, 0)\n",
            "(0, 3, 3)\n",
            "(0, 5, 1)\n",
            "(1, 5, 0)\n",
            "(1, 2, 3)\n",
            "(4, 2, 0)\n"
          ]
        }
      ],
      "source": [
        "def moveGen(state, jug_capacity_1, jug_capacity_2, jug_capacity_3):\n",
        "    moves = []\n",
        "    if state[0] < jug_capacity_1:\n",
        "        moves.append((jug_capacity_1, state[1], state[2]))\n",
        "    if state[1] < jug_capacity_2:\n",
        "        moves.append((state[0], jug_capacity_2, state[2]))\n",
        "    if state[2] < jug_capacity_3:\n",
        "        moves.append((state[0], state[1], jug_capacity_3))\n",
        "    if state[0] > 0:\n",
        "        moves.append((0, state[1], state[2]))\n",
        "    if state[1] > 0:\n",
        "        moves.append((state[0], 0, state[2]))\n",
        "    if state[2] > 0:\n",
        "        moves.append((state[0], state[1], 0))\n",
        "    transfer = min(state[0], jug_capacity_2 - state[1])\n",
        "    if transfer > 0:\n",
        "        moves.append((state[0] - transfer, state[1] + transfer, state[2]))\n",
        "    transfer = min(state[0], jug_capacity_3 - state[2])\n",
        "    if transfer > 0:\n",
        "        moves.append((state[0] - transfer, state[1], state[2] + transfer))\n",
        "    transfer = min(state[1], jug_capacity_1 - state[0])\n",
        "    if transfer > 0:\n",
        "        moves.append((state[0] + transfer, state[1] - transfer, state[2]))\n",
        "    transfer = min(state[1], jug_capacity_3 - state[2])\n",
        "    if transfer > 0:\n",
        "        moves.append((state[0], state[1] - transfer, state[2] + transfer))\n",
        "    transfer = min(state[2], jug_capacity_1 - state[0])\n",
        "    if transfer > 0:\n",
        "        moves.append((state[0] + transfer, state[1], state[2] - transfer))\n",
        "    transfer = min(state[2], jug_capacity_2 - state[1])\n",
        "    if transfer > 0:\n",
        "        moves.append((state[0], state[1] + transfer, state[2] - transfer))\n",
        "    return moves\n",
        "\n",
        "def isGoalState(state, goal):\n",
        "    return state[0] == goal or state[1] == goal or state[2] == goal\n",
        "\n",
        "def getPath(close, state):\n",
        "    path = []\n",
        "    while state:\n",
        "        path.append(state)\n",
        "        state = close[state]\n",
        "    return path[::-1]\n",
        "\n",
        "def waterJugs(jug_capacity_1, jug_capacity_2, jug_capacity_3, goal):\n",
        "    start_state = (0, 0, 0)\n",
        "    stack = []\n",
        "    close = {}\n",
        "    stack.append(start_state)\n",
        "    close[start_state] = None\n",
        "    while stack:\n",
        "        state = stack.pop()\n",
        "        if isGoalState(state, goal):\n",
        "            return getPath(close, state)\n",
        "        moves = moveGen(state, jug_capacity_1, jug_capacity_2, jug_capacity_3)\n",
        "        for move in moves:\n",
        "            if move in close:\n",
        "                continue\n",
        "            stack.append(move)\n",
        "            close[move] = state\n",
        "    return \"Not Possible\"\n",
        "\n",
        "if __name__ == \"__main__\":\n",
        "    jug_capacity_1 = int(input(\"Enter the capacity of jug 1: \"))\n",
        "    jug_capacity_2 = int(input(\"Enter the capacity of jug 2: \"))\n",
        "    jug_capacity_3 = int(input(\"Enter the capacity of jug 3: \"))\n",
        "    goal = int(input(\"Enter the goal: \"))\n",
        "\n",
        "    result = waterJugs(jug_capacity_1, jug_capacity_2, jug_capacity_3, goal)\n",
        "    if result == \"Not Possible\":\n",
        "        print(\"It is not possible to measure the goal amount with the given jugs.\")\n",
        "    else:\n",
        "        print(\"The sequence of moves to achieve the goal is:\")\n",
        "        for step in result:\n",
        "            print(step)\n"
      ]
    },
    {
      "cell_type": "markdown",
      "source": [
        "The moveGen function generates all possible states by filling, emptying, or transferring water between two jugs.\n",
        "The isGoalState function checks if the current state matches the desired goal volume in either of the jugs.\n",
        "The solution is printed step by step after finding the goal state."
      ],
      "metadata": {
        "id": "zb4isfdWvGE9"
      }
    },
    {
      "cell_type": "markdown",
      "source": [
        "# Travelling salesman problem"
      ],
      "metadata": {
        "id": "Hz8hSKmLvWaT"
      }
    },
    {
      "cell_type": "code",
      "source": [
        "import random\n",
        "\n",
        "def calculate_cost(route, distances):\n",
        "    cost = 0\n",
        "    for i in range(len(route) - 1):\n",
        "        cost += distances[route[i]][route[i + 1]]\n",
        "    cost += distances[route[-1]][route[0]]\n",
        "    return cost\n",
        "\n",
        "def TravellingSalesmanProblem():\n",
        "    n = int(input(\"Enter number of cities: \"))\n",
        "    cities = list(range(n))\n",
        "    distances = [[random.randint(1, 100) for _ in range(n)] for _ in range(n)]\n",
        "    current_route = cities[:]\n",
        "    random.shuffle(current_route)\n",
        "    current_cost = calculate_cost(current_route, distances)\n",
        "    print(f\"Initial route: {current_route} with cost: {current_cost}\")\n",
        "    iteration = 0\n",
        "    while iteration < 1000:\n",
        "        for i in range(n):\n",
        "            for j in range(i + 1, n):\n",
        "                new_route = current_route[:]\n",
        "                new_route[i], new_route[j] = new_route[j], new_route[i]\n",
        "                new_cost = calculate_cost(new_route, distances)\n",
        "                if new_cost < current_cost:\n",
        "                    current_route = new_route\n",
        "                    current_cost = new_cost\n",
        "                    print(f\"New best route: {current_route} with cost: {current_cost}\")\n",
        "        iteration += 1\n",
        "    print(f\"Final route: {current_route} with cost: {current_cost}\")\n",
        "\n",
        "TravellingSalesmanProblem()"
      ],
      "metadata": {
        "colab": {
          "base_uri": "https://localhost:8080/"
        },
        "id": "5wPDHsgy4PLn",
        "outputId": "8b1a4c12-ea15-488d-aec4-17f3b6c98166"
      },
      "execution_count": 2,
      "outputs": [
        {
          "output_type": "stream",
          "name": "stdout",
          "text": [
            "Enter number of cities: 4\n",
            "Initial route: [3, 0, 2, 1] with cost: 164\n",
            "New best route: [0, 3, 2, 1] with cost: 134\n",
            "New best route: [1, 3, 2, 0] with cost: 116\n",
            "Final route: [1, 3, 2, 0] with cost: 116\n"
          ]
        }
      ]
    },
    {
      "cell_type": "markdown",
      "source": [
        "The PuzzleState class includes a get_possible_moves method to generate new states by moving the blank space.\n",
        "The isGoalState function checks if the current board configuration matches the goal state.\n",
        "The solution path is printed step by step after finding the goal state using the A* algorithm.\n",
        "\n"
      ],
      "metadata": {
        "id": "ZwBuDercvbnj"
      }
    },
    {
      "cell_type": "markdown",
      "source": [
        "# 8 Puzzzle Problem"
      ],
      "metadata": {
        "id": "ry5rmSZbvces"
      }
    },
    {
      "cell_type": "code",
      "source": [
        "from heapq import heappush, heappop\n",
        "\n",
        "class PuzzleState:\n",
        "    def __init__(self, board, g, h, empty_pos, parent=None):\n",
        "        self.board = board\n",
        "        self.g = g\n",
        "        self.h = h\n",
        "        self.empty_pos = empty_pos\n",
        "        self.parent = parent\n",
        "\n",
        "    def __lt__(self, other):\n",
        "        return (self.g + self.h) < (other.g + other.h)\n",
        "\n",
        "def calculate_heuristic(board, goal_board):\n",
        "    h = 0\n",
        "    for i in range(len(board)):\n",
        "        for j in range(len(board[i])):\n",
        "            if board[i][j] != 0:\n",
        "                for x in range(len(goal_board)):\n",
        "                    for y in range(len(goal_board[x])):\n",
        "                        if goal_board[x][y] == board[i][j]:\n",
        "                            h += abs(x - i) + abs(y - j)\n",
        "                            break\n",
        "    return h\n",
        "\n",
        "def generate_successors(state, goal_board):\n",
        "    successors = []\n",
        "    x, y = state.empty_pos\n",
        "    directions = [(-1, 0), (1, 0), (0, -1), (0, 1)]\n",
        "    for dx, dy in directions:\n",
        "        new_x, new_y = x + dx, y + dy\n",
        "        if 0 <= new_x < 3 and 0 <= new_y < 3:\n",
        "            new_board = [row[:] for row in state.board]\n",
        "            new_board[x][y], new_board[new_x][new_y] = new_board[new_x][new_y], new_board[x][y]\n",
        "            h = calculate_heuristic(new_board, goal_board)\n",
        "            successors.append(PuzzleState(new_board, state.g + 1, h, (new_x, new_y), state))\n",
        "    return successors\n",
        "\n",
        "def is_solvable(board):\n",
        "    inversions = 0\n",
        "    flat_board = [num for row in board for num in row if num != 0]\n",
        "    for i in range(len(flat_board)):\n",
        "        for j in range(i + 1, len(flat_board)):\n",
        "            if flat_board[i] > flat_board[j]:\n",
        "                inversions += 1\n",
        "    return inversions % 2 == 0\n",
        "\n",
        "def A_star_search(initial_board, goal_board):\n",
        "    if not is_solvable(initial_board):\n",
        "        print(\"The puzzle is not solvable.\")\n",
        "        return None\n",
        "\n",
        "    empty_pos = [(i, j) for i in range(3) for j in range(3) if initial_board[i][j] == 0][0]\n",
        "    initial_state = PuzzleState(initial_board, 0, calculate_heuristic(initial_board, goal_board), empty_pos)\n",
        "    open_list = []\n",
        "    heappush(open_list, initial_state)\n",
        "    closed_set = set()\n",
        "\n",
        "    while open_list:\n",
        "        current_state = heappop(open_list)\n",
        "\n",
        "        if current_state.board == goal_board:\n",
        "            path = []\n",
        "            while current_state:\n",
        "                path.append(current_state.board)\n",
        "                current_state = current_state.parent\n",
        "            return path[::-1]\n",
        "\n",
        "        closed_set.add(tuple(map(tuple, current_state.board)))\n",
        "\n",
        "        for successor in generate_successors(current_state, goal_board):\n",
        "            if tuple(map(tuple, successor.board)) in closed_set:\n",
        "                continue\n",
        "            heappush(open_list, successor)\n",
        "\n",
        "    return None\n",
        "\n",
        "def read_board():\n",
        "    board = []\n",
        "    for _ in range(3):\n",
        "        row = list(map(int, input().split()))\n",
        "        board.append(row)\n",
        "    return board\n",
        "\n",
        "initial_board = read_board()\n",
        "goal_board = read_board()\n",
        "solution_path = A_star_search(initial_board, goal_board)\n",
        "\n",
        "if solution_path:\n",
        "    print(\"Solution path found:\")\n",
        "    for step in solution_path:\n",
        "        for row in step:\n",
        "            print(row)\n",
        "        print()\n",
        "else:\n",
        "    print(\"No solution found or the puzzle is unsolvable.\")\n",
        "\n"
      ],
      "metadata": {
        "colab": {
          "base_uri": "https://localhost:8080/"
        },
        "id": "vKDjntrU4_88",
        "outputId": "37502888-a517-4dfc-af72-8cdc0656ec99"
      },
      "execution_count": 9,
      "outputs": [
        {
          "output_type": "stream",
          "name": "stdout",
          "text": [
            "2 3 4\n",
            "1 6 7\n",
            "5 0 8\n",
            "1 2 3\n",
            "4 5 6\n",
            "7 8 0\n",
            "The puzzle is not solvable.\n",
            "No solution found or the puzzle is unsolvable.\n"
          ]
        }
      ]
    },
    {
      "cell_type": "markdown",
      "source": [
        "The moveGen function generates neighbors by swapping pairs of cities in the current tour.\n",
        "The isGoalState function checks if the tour includes all cities.\n",
        "The best tour and its total distance are printed after performing the hill climbing algorithm."
      ],
      "metadata": {
        "id": "sB37LZ5tvhnz"
      }
    },
    {
      "cell_type": "code",
      "source": [],
      "metadata": {
        "id": "BbrvRSB45Nf-"
      },
      "execution_count": null,
      "outputs": []
    }
  ]
}